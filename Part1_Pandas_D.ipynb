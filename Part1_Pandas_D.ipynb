{
 "cells": [
  {
   "cell_type": "markdown",
   "id": "c690ac7a",
   "metadata": {},
   "source": [
    "#### 이론"
   ]
  },
  {
   "cell_type": "markdown",
   "id": "0bb0fa5c",
   "metadata": {},
   "source": [
    "1. 판다스 라이브러리는 데이터를 수집하고 정리하는 데 최적화된 도구"
   ]
  },
  {
   "cell_type": "markdown",
   "id": "22f59875",
   "metadata": {},
   "source": [
    "2. Pandas는 시리즈(Series)와 데이터프레임(DataFrame)이라는 2개의 구조화된 데이터 형식을 제공"
   ]
  },
  {
   "cell_type": "markdown",
   "id": "2026455a",
   "metadata": {},
   "source": [
    "3. Series는 1차원 배열, DataFrame은 2차원 배열"
   ]
  },
  {
   "cell_type": "markdown",
   "id": "fec2c6c6",
   "metadata": {},
   "source": [
    "##### 시리즈"
   ]
  },
  {
   "cell_type": "markdown",
   "id": "03a5b569",
   "metadata": {},
   "source": [
    "1. 인덱스(index)는 데이터 값(value)과 일대일 대응. 딕셔너리(Dict)와 비슷한 구조를 갖는다."
   ]
  },
  {
   "cell_type": "code",
   "execution_count": 1,
   "id": "50cc5492",
   "metadata": {},
   "outputs": [
    {
     "name": "stdout",
     "output_type": "stream",
     "text": [
      "<class 'pandas.core.series.Series'>\n",
      "\n",
      "\n",
      "a    1\n",
      "b    2\n",
      "c    3\n",
      "dtype: int64\n"
     ]
    }
   ],
   "source": [
    "# pandas 불러오기\n",
    "import pandas as pd\n",
    "\n",
    "# key:value 쌍으로 딕셔너리를 만들고, 변수 dict_data에 저장\n",
    "dict_data = {'a':1, 'b':2, 'c':3}\n",
    "\n",
    "# 판다스 Series() 함수로 dictionary를 Series로 변환. 변수 sr에 저장\n",
    "sr = pd.Series(dict_data)\n",
    "\n",
    "# sr의 자료형 출력\n",
    "print(type(sr))\n",
    "print('\\n')\n",
    "# 변수 sr에 저장되어 있는 시리즈 객체를 출력\n",
    "print(sr)"
   ]
  },
  {
   "cell_type": "markdown",
   "id": "cc90f4a2",
   "metadata": {},
   "source": [
    "2. 인덱스 구조 - 인덱스는 자기와 짝을 이루는 데이터 값의 순서와 주소를 저장. 종류는 두 가지이다. 정수형 위치 인덱스와 인덱스 이름 또는 인덱스 라벨."
   ]
  },
  {
   "cell_type": "markdown",
   "id": "d89894f6",
   "metadata": {},
   "source": [
    "3. 리스트를 시리즈로 변환 - 인덱스를 별도로 지정하지 않으면, 디폴트로 정수형 위치 인덱스(0,1,2, ... )가 자동 지정된다."
   ]
  },
  {
   "cell_type": "code",
   "execution_count": 2,
   "id": "f6af1e5f",
   "metadata": {},
   "outputs": [
    {
     "name": "stdout",
     "output_type": "stream",
     "text": [
      "0    2019-01-02\n",
      "1          3.14\n",
      "2           ABC\n",
      "3           100\n",
      "4          True\n",
      "dtype: object\n"
     ]
    }
   ],
   "source": [
    "import pandas as pd\n",
    "\n",
    "list_data = ['2019-01-02', 3.14, 'ABC', '100', True]\n",
    "sr = pd.Series(list_data)\n",
    "print(sr)"
   ]
  },
  {
   "cell_type": "code",
   "execution_count": 3,
   "id": "40f0f1a3",
   "metadata": {},
   "outputs": [
    {
     "name": "stdout",
     "output_type": "stream",
     "text": [
      "RangeIndex(start=0, stop=5, step=1)\n",
      "\n",
      "\n",
      "['2019-01-02' 3.14 'ABC' '100' True]\n"
     ]
    }
   ],
   "source": [
    "# 인덱스 배열은 변수 idx에 저장. 데이터 값 배열은 변수 val에 저장.\n",
    "idx = sr.index\n",
    "val = sr.values\n",
    "print(idx)\n",
    "print('\\n')\n",
    "print(val)"
   ]
  },
  {
   "cell_type": "markdown",
   "id": "9aff65ef",
   "metadata": {},
   "source": [
    "4. 원소 선택 - 정수형 위치 인덱스는 대괄호([]) 안에 위치를 나타내는 숫자를 입력하는데 반해, 인덱스 이름(라벨)을 이용할 때는 대괄호 안에 이름과 함께 따옴표를 입력한다."
   ]
  },
  {
   "cell_type": "code",
   "execution_count": 4,
   "id": "356edb5a",
   "metadata": {},
   "outputs": [],
   "source": [
    "tab = {'a':'car', 'b':'train', 'c':'subway', 'd':'airplane'}\n",
    "Sr = pd.Series(tab)"
   ]
  },
  {
   "cell_type": "code",
   "execution_count": 5,
   "id": "5242c0ea",
   "metadata": {},
   "outputs": [
    {
     "name": "stdout",
     "output_type": "stream",
     "text": [
      "subway\n",
      "subway\n",
      "\n",
      "\n",
      "a       car\n",
      "b     train\n",
      "c    subway\n",
      "dtype: object\n",
      "a       car\n",
      "b     train\n",
      "c    subway\n",
      "dtype: object\n",
      "\n",
      "\n",
      "a       car\n",
      "c    subway\n",
      "dtype: object\n",
      "a       car\n",
      "c    subway\n",
      "dtype: object\n"
     ]
    }
   ],
   "source": [
    "print(Sr['c'])\n",
    "print(Sr[2])\n",
    "print('\\n')\n",
    "print(Sr['a':'c'])\n",
    "print(Sr[0:3])\n",
    "print('\\n')\n",
    "print(Sr[['a','c']])\n",
    "print(Sr[[0,2]])"
   ]
  },
  {
   "cell_type": "markdown",
   "id": "cf8fb1e0",
   "metadata": {},
   "source": [
    "5. 리스트 또는 튜플을 시리즈로 만들 때 정수형 위치 인덱스 대신 인덱스 이름을 따로 지정할 수 있다. Series() 함수의 index 옵션에 인덱스 이름을 직접 전달하는 방식."
   ]
  },
  {
   "cell_type": "code",
   "execution_count": 6,
   "id": "a0e2b183",
   "metadata": {},
   "outputs": [
    {
     "name": "stdout",
     "output_type": "stream",
     "text": [
      "이름              영인\n",
      "생년월일    2010-05-01\n",
      "성별               여\n",
      "학생여부          True\n",
      "dtype: object\n"
     ]
    }
   ],
   "source": [
    "import pandas as pd\n",
    "\n",
    "# 튜플을 시리즈로 변환(인덱스 옵션 지점)\n",
    "tup_data = ('영인', '2010-05-01', '여', True)\n",
    "sr = pd.Series(tup_data, index=['이름', '생년월일', '성별', '학생여부'])\n",
    "print(sr)"
   ]
  },
  {
   "cell_type": "code",
   "execution_count": 7,
   "id": "171a9e9f",
   "metadata": {},
   "outputs": [
    {
     "name": "stdout",
     "output_type": "stream",
     "text": [
      "영인\n",
      "영인\n"
     ]
    }
   ],
   "source": [
    "# 원소 1개를 선택\n",
    "print(sr[0])  # sr의 1번째 원소를 선택(정수형 위치 인덱스)\n",
    "print(sr['이름'])  # '이름' 라벨을 가진 원소를 선택(인덱스 이름)"
   ]
  },
  {
   "cell_type": "code",
   "execution_count": 8,
   "id": "b20d7766",
   "metadata": {},
   "outputs": [
    {
     "name": "stdout",
     "output_type": "stream",
     "text": [
      "생년월일    2010-05-01\n",
      "성별               여\n",
      "dtype: object\n",
      "\n",
      "\n",
      "생년월일    2010-05-01\n",
      "성별               여\n",
      "dtype: object\n"
     ]
    }
   ],
   "source": [
    "# 여러 개의 원소를 선택(인덱스 리스트 활용)\n",
    "print(sr[[1,2]])\n",
    "print('\\n')\n",
    "print(sr[['생년월일','성별']])"
   ]
  },
  {
   "cell_type": "code",
   "execution_count": 9,
   "id": "1bc9d262",
   "metadata": {},
   "outputs": [
    {
     "name": "stdout",
     "output_type": "stream",
     "text": [
      "생년월일    2010-05-01\n",
      "dtype: object\n",
      "\n",
      "\n",
      "생년월일    2010-05-01\n",
      "성별               여\n",
      "dtype: object\n"
     ]
    }
   ],
   "source": [
    "print(sr[1:2])\n",
    "print('\\n')\n",
    "print(sr['생년월일':'성별'])\n",
    "\n",
    "# 정수형 인덱스 슬라이싱은 하나만 출력\n",
    "# 라벨을 인덱스 슬라이싱으로 이용하면 두 개가 출력"
   ]
  },
  {
   "cell_type": "markdown",
   "id": "fe9696e1",
   "metadata": {},
   "source": [
    "##### 데이터프레임"
   ]
  },
  {
   "cell_type": "markdown",
   "id": "109e5e77",
   "metadata": {},
   "source": [
    "1. 행과 열의 구조로 이루어짐."
   ]
  },
  {
   "cell_type": "markdown",
   "id": "0af9960b",
   "metadata": {},
   "source": [
    "2. 시리즈를 열벡터(vector)라고 하면, 데이터프레임은 여러 개의 열벡터들이 같은 행 인덱스를 기준으로 줄지어 결합된 2차원 벡터 또는 행렬(matrix)이다."
   ]
  },
  {
   "cell_type": "markdown",
   "id": "407cbedb",
   "metadata": {},
   "source": [
    "3. 데이터프레임의 열은 공통의 속성을 갖는 일련의 데이터를 나타내고 보통 변수(variable)로 활용된다. 행은 개별 관측대상에 대한 다양한 속성 데이터들의 모음인 레코드(record)가 된다."
   ]
  },
  {
   "cell_type": "code",
   "execution_count": 10,
   "id": "618819b6",
   "metadata": {},
   "outputs": [
    {
     "name": "stdout",
     "output_type": "stream",
     "text": [
      "<class 'pandas.core.frame.DataFrame'>\n",
      "\n",
      "\n",
      "   c0  c1  c2  c3  c4\n",
      "0   1   4   7  10  13\n",
      "1   2   5   8  11  14\n",
      "2   3   6   9  12  15\n"
     ]
    }
   ],
   "source": [
    "import pandas as pd\n",
    "\n",
    "# 열 이름을 key로 하고, 리스트를 value로 갖는 딕셔너리 정의(2차원 배열)\n",
    "dict_data = {'c0':[1,2,3], 'c1':[4,5,6], 'c2':[7,8,9], 'c3':[10,11,12], 'c4':[13,14,15]}\n",
    "\n",
    "# 판다스 DataFrame() 함수로 딕셔너리를 데이터프레임으로 변환. 변수 df에 저장.\n",
    "df = pd.DataFrame(dict_data)\n",
    "\n",
    "# df의 자료형 출력\n",
    "print(type(df))\n",
    "print('\\n')\n",
    "print(df)"
   ]
  },
  {
   "cell_type": "markdown",
   "id": "347e16d1",
   "metadata": {},
   "source": [
    "행 인덱스 / 열 이름 설정 : pd.DataFrame(2차원 배열, index=행 인덱스 배열, columns=열 이름 배열)"
   ]
  },
  {
   "cell_type": "code",
   "execution_count": 11,
   "id": "11771b82",
   "metadata": {},
   "outputs": [
    {
     "name": "stdout",
     "output_type": "stream",
     "text": [
      "    나이 성별   학교\n",
      "준서  15  남  덕영중\n",
      "예은  17  여  수리중\n",
      "\n",
      "\n",
      "Index(['준서', '예은'], dtype='object')\n",
      "\n",
      "\n",
      "Index(['나이', '성별', '학교'], dtype='object')\n"
     ]
    }
   ],
   "source": [
    "import pandas as pd\n",
    "\n",
    "# 행 인덱스 / 열 이름 지정하여 데이터프레임 만들기\n",
    "df = pd.DataFrame([[15, '남', '덕영중'], [17, '여', '수리중']],\n",
    "                 index = ['준서','예은'],\n",
    "                 columns = ['나이','성별','학교'])\n",
    "\n",
    "# 행 인덱스, 열 이름 확인하기\n",
    "print(df)\n",
    "print('\\n')\n",
    "print(df.index)\n",
    "print('\\n')\n",
    "print(df.columns)"
   ]
  },
  {
   "cell_type": "markdown",
   "id": "48e8ccd2",
   "metadata": {},
   "source": [
    "- 행 인덱스 변경 : DataFrame 객체.index = 새로운 행 인덱스 배열"
   ]
  },
  {
   "cell_type": "markdown",
   "id": "f1a2810e",
   "metadata": {},
   "source": [
    "- 열 이름 변경 : DataFrame 객체.columns = 새로운 열 이름 배열"
   ]
  },
  {
   "cell_type": "code",
   "execution_count": 12,
   "id": "baedc330",
   "metadata": {},
   "outputs": [
    {
     "name": "stdout",
     "output_type": "stream",
     "text": [
      "     연령 남녀   소속\n",
      "학생1  15  남  덕영중\n",
      "학생2  17  여  수리중\n",
      "\n",
      "\n",
      "Index(['학생1', '학생2'], dtype='object')\n",
      "\n",
      "\n",
      "Index(['연령', '남녀', '소속'], dtype='object')\n"
     ]
    }
   ],
   "source": [
    "# 행 인덱스, 열 이름 변경하기\n",
    "df.index = ['학생1','학생2']\n",
    "df.columns = ['연령','남녀','소속']\n",
    "\n",
    "print(df)\n",
    "print('\\n')\n",
    "print(df.index)\n",
    "print('\\n')\n",
    "print(df.columns)"
   ]
  },
  {
   "cell_type": "markdown",
   "id": "3e426a1e",
   "metadata": {},
   "source": [
    "데이터프레임에 rename() 메소드를 적용하면 행 인덱스 또는 열 이름의 일부를 선택하여 변경할 수 있다."
   ]
  },
  {
   "cell_type": "markdown",
   "id": "332e9152",
   "metadata": {},
   "source": [
    "rename() 메소드를 이용하는 방식은 직접 수정이 아닌 새로운 데이터프레임 객체를 반환하는 것. 꼭 inplace = True를 써야 함."
   ]
  },
  {
   "cell_type": "markdown",
   "id": "b3f4df30",
   "metadata": {},
   "source": [
    "- 행 인덱스 변경 : DataFrame 객체.rename(index={기존 인덱스:새 인덱스})"
   ]
  },
  {
   "cell_type": "markdown",
   "id": "d1ab1cf4",
   "metadata": {},
   "source": [
    "- 열 이름 변경 : DataFrame 객체.rename(columns={기존 이름:새 이름})"
   ]
  },
  {
   "cell_type": "code",
   "execution_count": 13,
   "id": "c5cf85ba",
   "metadata": {},
   "outputs": [
    {
     "name": "stdout",
     "output_type": "stream",
     "text": [
      "    나이 성별   학교\n",
      "준서  15  남  덕영중\n",
      "예은  17  여  수리중\n",
      "\n",
      "\n",
      "     연령 남녀   소속\n",
      "학생1  15  남  덕영중\n",
      "학생2  17  여  수리중\n"
     ]
    }
   ],
   "source": [
    "import pandas as pd\n",
    "\n",
    "# 행 인덱스 / 열 이름 지정하여 데이터프레임 만들기\n",
    "df = pd.DataFrame([[15, '남', '덕영중'], [17, '여', '수리중']],\n",
    "                 index=['준서','예은'],\n",
    "                 columns=['나이','성별','학교'])\n",
    "\n",
    "# 데이터프레임 df 출력\n",
    "print(df)\n",
    "print('\\n')\n",
    "\n",
    "# 열 이름 중, '나이'를 '연령'으로, '성별'을 '남녀'로, '학교'를 '소속'으로 바꾸기\n",
    "df.rename(columns={'나이':'연령', '성별':'남녀', '학교':'소속'}, inplace=True)\n",
    "\n",
    "# df의 행 인덱스 중에서, '준서'를 '학생1'로, '예은'을 '학생2'로 바꾸기\n",
    "df.rename(index={'준서':'학생1', '예은':'학생2'}, inplace=True)\n",
    "\n",
    "# df 출력(변경 후)\n",
    "print(df)"
   ]
  },
  {
   "cell_type": "markdown",
   "id": "31301635",
   "metadata": {},
   "source": [
    "데이터프레임의 행 또는 열을 삭제하는 방법으로 drop() 메소드가 있다."
   ]
  },
  {
   "cell_type": "markdown",
   "id": "acafb8ec",
   "metadata": {},
   "source": [
    "행을 삭제할 때는 axis=0, 열을 삭제할 때는 axis=1, 동시에 여러 개의 행 또는 열을 삭제하려면 리스트 형태로 입력."
   ]
  },
  {
   "cell_type": "markdown",
   "id": "7bd70452",
   "metadata": {},
   "source": [
    "inplace=True 를 포함시켜야 직접 변경이 가능하다."
   ]
  },
  {
   "cell_type": "markdown",
   "id": "67a36d8a",
   "metadata": {},
   "source": [
    "- 행 삭제 : DataFrame 객체.drop(행 인덱스 또는 배열, axis=0)"
   ]
  },
  {
   "cell_type": "markdown",
   "id": "8c5d7753",
   "metadata": {},
   "source": [
    "- 열 삭제 : DataFrame 객체.drop(열 이름 또는 배열, axis=1)"
   ]
  },
  {
   "cell_type": "code",
   "execution_count": 14,
   "id": "9bac527b",
   "metadata": {},
   "outputs": [
    {
     "name": "stdout",
     "output_type": "stream",
     "text": [
      "    수학  영어  음악   체육\n",
      "서준  90  98  85  100\n",
      "우현  80  89  95   90\n",
      "인아  70  79  33   88\n",
      "\n",
      "\n",
      "    수학  영어  음악   체육\n",
      "서준  90  98  85  100\n",
      "인아  70  79  33   88\n",
      "\n",
      "\n",
      "    수학  영어  음악   체육\n",
      "서준  90  98  85  100\n"
     ]
    },
    {
     "name": "stderr",
     "output_type": "stream",
     "text": [
      "C:\\Users\\광운MOOC센터\\AppData\\Local\\Temp\\ipykernel_36132\\427941166.py:13: SettingWithCopyWarning: \n",
      "A value is trying to be set on a copy of a slice from a DataFrame\n",
      "\n",
      "See the caveats in the documentation: https://pandas.pydata.org/pandas-docs/stable/user_guide/indexing.html#returning-a-view-versus-a-copy\n",
      "  df2.drop('우현', inplace=True)\n",
      "C:\\Users\\광운MOOC센터\\AppData\\Local\\Temp\\ipykernel_36132\\427941166.py:20: SettingWithCopyWarning: \n",
      "A value is trying to be set on a copy of a slice from a DataFrame\n",
      "\n",
      "See the caveats in the documentation: https://pandas.pydata.org/pandas-docs/stable/user_guide/indexing.html#returning-a-view-versus-a-copy\n",
      "  df3.drop(['우현','인아'], inplace=True)\n"
     ]
    }
   ],
   "source": [
    "import pandas as pd\n",
    "\n",
    "# DataFrame() 함수로 데이터프레임 변환. 변수 df에 저장\n",
    "exam_data = {'수학':[90,80,70], '영어':[98,89,79],\n",
    "            '음악':[85,95,33], '체육':[100,90,88]}\n",
    "\n",
    "df = pd.DataFrame(exam_data, index=['서준','우현','인아'])\n",
    "print(df)\n",
    "print('\\n')\n",
    "\n",
    "# 데이터프레임 df를 복제하여 변수 df2에 저장. df2의 1개 행(row) 삭제\n",
    "df2 = df[:]\n",
    "df2.drop('우현', inplace=True)\n",
    "print(df2)\n",
    "print('\\n')\n",
    "\n",
    "# 데이터프레임 df를 복제하여 변수 df3에 저장. df3의 2개 행(row) 삭제\n",
    "df3 = df[:]\n",
    "# df3.drop(['우현','인아'], axis=0, inplace=True)\n",
    "df3.drop(['우현','인아'], inplace=True)\n",
    "print(df3)"
   ]
  },
  {
   "cell_type": "code",
   "execution_count": 15,
   "id": "462453fe",
   "metadata": {},
   "outputs": [
    {
     "name": "stdout",
     "output_type": "stream",
     "text": [
      "    수학  영어  음악  체육\n",
      "서준  90  98  85  88\n",
      "우현  80  89  75  77\n",
      "인아  70  79  95  99\n",
      "\n",
      "\n",
      "    영어  음악  체육\n",
      "서준  98  85  88\n",
      "우현  89  75  77\n",
      "인아  79  95  99\n",
      "\n",
      "\n",
      "    수학  체육\n",
      "서준  90  88\n",
      "우현  80  77\n",
      "인아  70  99\n"
     ]
    },
    {
     "name": "stderr",
     "output_type": "stream",
     "text": [
      "C:\\Users\\광운MOOC센터\\AppData\\Local\\Temp\\ipykernel_36132\\3217903.py:13: SettingWithCopyWarning: \n",
      "A value is trying to be set on a copy of a slice from a DataFrame\n",
      "\n",
      "See the caveats in the documentation: https://pandas.pydata.org/pandas-docs/stable/user_guide/indexing.html#returning-a-view-versus-a-copy\n",
      "  df4.drop('수학', axis=1, inplace=True)\n",
      "C:\\Users\\광운MOOC센터\\AppData\\Local\\Temp\\ipykernel_36132\\3217903.py:19: SettingWithCopyWarning: \n",
      "A value is trying to be set on a copy of a slice from a DataFrame\n",
      "\n",
      "See the caveats in the documentation: https://pandas.pydata.org/pandas-docs/stable/user_guide/indexing.html#returning-a-view-versus-a-copy\n",
      "  df5.drop(['영어','음악'], axis=1, inplace=True)\n"
     ]
    }
   ],
   "source": [
    "import pandas as pd\n",
    "\n",
    "# DataFrame() 함수로 데이터프레임 변환. 변수 df에 저장\n",
    "exam_data = {'수학':[90,80,70], '영어':[98,89,79],\n",
    "            '음악':[85,75,95], '체육':[88,77,99]}\n",
    "\n",
    "df = pd.DataFrame(exam_data, index=['서준','우현','인아'])\n",
    "print(df)\n",
    "print('\\n')\n",
    "\n",
    "# 데이터프레임 df를 복제하여 변수 df4에 저장. df4의 1개 열(column) 삭제\n",
    "df4 = df[:]\n",
    "df4.drop('수학', axis=1, inplace=True)\n",
    "print(df4)\n",
    "print('\\n')\n",
    "\n",
    "# 데이터프레임 df를 복제하여 df5에 저장. df5의 2개 열(column) 삭제\n",
    "df5 = df[:]\n",
    "df5.drop(['영어','음악'], axis=1, inplace=True)\n",
    "print(df5)"
   ]
  },
  {
   "cell_type": "markdown",
   "id": "27c3d281",
   "metadata": {},
   "source": [
    "- 행 선택"
   ]
  },
  {
   "cell_type": "markdown",
   "id": "bac6c788",
   "metadata": {},
   "source": [
    "- loc : 인덱스 이름 기준"
   ]
  },
  {
   "cell_type": "markdown",
   "id": "08d03cca",
   "metadata": {},
   "source": [
    "- iloc : 정수형 위치 인덱스 기준"
   ]
  },
  {
   "cell_type": "code",
   "execution_count": 16,
   "id": "fbbbba52",
   "metadata": {},
   "outputs": [
    {
     "name": "stdout",
     "output_type": "stream",
     "text": [
      "    수학  영어  음악  체육\n",
      "서준  90  98  85  88\n",
      "우현  80  89  75  77\n",
      "인아  70  79  95  99\n",
      "\n",
      "\n",
      "수학    90\n",
      "영어    98\n",
      "음악    85\n",
      "체육    88\n",
      "Name: 서준, dtype: int64\n",
      "\n",
      "\n",
      "수학    90\n",
      "영어    98\n",
      "음악    85\n",
      "체육    88\n",
      "Name: 서준, dtype: int64\n"
     ]
    }
   ],
   "source": [
    "import pandas as pd\n",
    "\n",
    "# DataFrame() 함수로 데이터프레임 변환. 변수 df에 저장\n",
    "exam_data = {'수학':[90,80,70], '영어':[98,89,79],\n",
    "            '음악':[85,75,95], '체육':[88,77,99]}\n",
    "\n",
    "df = pd.DataFrame(exam_data, index=['서준','우현','인아'])\n",
    "print(df)\n",
    "print('\\n')\n",
    "\n",
    "# 행 인덱스를 사용하여 행 1개 선택\n",
    "label1 = df.loc['서준']\n",
    "position1 = df.iloc[0]\n",
    "print(label1)\n",
    "print('\\n')\n",
    "print(position1)"
   ]
  },
  {
   "cell_type": "code",
   "execution_count": 17,
   "id": "3b67ae13",
   "metadata": {},
   "outputs": [
    {
     "name": "stdout",
     "output_type": "stream",
     "text": [
      "    수학  영어  음악  체육\n",
      "서준  90  98  85  88\n",
      "우현  80  89  75  77\n",
      "\n",
      "\n",
      "    수학  영어  음악  체육\n",
      "서준  90  98  85  88\n",
      "우현  80  89  75  77\n"
     ]
    }
   ],
   "source": [
    "# 행 인덱스를 사용하여 2개 이상의 행 선택\n",
    "label2 = df.loc[['서준','우현']]\n",
    "position2 = df.iloc[[0,1]]\n",
    "print(label2)\n",
    "print('\\n')\n",
    "print(position2)"
   ]
  },
  {
   "cell_type": "code",
   "execution_count": 18,
   "id": "bc744bfc",
   "metadata": {},
   "outputs": [
    {
     "name": "stdout",
     "output_type": "stream",
     "text": [
      "    수학  영어  음악  체육\n",
      "서준  90  98  85  88\n",
      "우현  80  89  75  77\n",
      "\n",
      "\n",
      "    수학  영어  음악  체육\n",
      "서준  90  98  85  88\n"
     ]
    }
   ],
   "source": [
    "# 행 인덱스의 범위를 지정하여 행 선택\n",
    "label3 = df.loc['서준':'우현']\n",
    "position3 = df.iloc[0:1]\n",
    "print(label3)\n",
    "print('\\n')\n",
    "print(position3)"
   ]
  },
  {
   "cell_type": "markdown",
   "id": "6c66f5be",
   "metadata": {},
   "source": [
    "- 열 선택"
   ]
  },
  {
   "cell_type": "markdown",
   "id": "cac838b7",
   "metadata": {},
   "source": [
    "- 1개의 열만 선택할 때는, 대괄호([]) 안에 열 이름을 따옴표와 함께 입력하거나 도트(.) 다음에 열 이름을 입력하는 두 가지 방식을 사용한다."
   ]
  },
  {
   "cell_type": "markdown",
   "id": "ed7240dd",
   "metadata": {},
   "source": [
    "- 열 n개 선택(데이터프레임 생성): DataFrame 객체[ [열1, 열2, ... , 열n] ]"
   ]
  },
  {
   "cell_type": "code",
   "execution_count": 19,
   "id": "7f8569b6",
   "metadata": {},
   "outputs": [
    {
     "name": "stdout",
     "output_type": "stream",
     "text": [
      "   이름  수학  영어  음악   체육\n",
      "0  서준  90  98  85  100\n",
      "1  우현  80  89  75   90\n",
      "2  인아  70  75  95   90\n",
      "\n",
      "\n",
      "0    90\n",
      "1    80\n",
      "2    70\n",
      "Name: 수학, dtype: int64\n",
      "<class 'pandas.core.series.Series'>\n",
      "\n",
      "\n",
      "0    98\n",
      "1    89\n",
      "2    75\n",
      "Name: 영어, dtype: int64\n",
      "<class 'pandas.core.series.Series'>\n"
     ]
    }
   ],
   "source": [
    "import pandas as pd\n",
    "\n",
    "exam_data = {'이름':['서준','우현','인아'],\n",
    "            '수학':[90,80,70],\n",
    "            '영어':[98,89,75],\n",
    "            '음악':[85,75,95],\n",
    "            '체육':[100,90,90]}\n",
    "\n",
    "df = pd.DataFrame(exam_data)\n",
    "print(df)\n",
    "print('\\n')\n",
    "\n",
    "# '수학' 점수 데이터만 선택. 변수 math1에 저장\n",
    "math1 = df['수학']\n",
    "print(math1)\n",
    "print(type(math1))\n",
    "print('\\n')\n",
    "\n",
    "# '영어' 점수 데이터만 선택. 변수 english에 저장\n",
    "english = df.영어\n",
    "print(english)\n",
    "print(type(english))\n",
    "\n",
    "# 시리즈로 반환된다는 점을 기억하자!!"
   ]
  },
  {
   "cell_type": "markdown",
   "id": "aec2357a",
   "metadata": {},
   "source": [
    "- 2개 이상의 열을 추출하기 위해서는 2중 대괄호를 사용하면 된다. -> 데이터프레임 반환."
   ]
  },
  {
   "cell_type": "markdown",
   "id": "9b69df1e",
   "metadata": {},
   "source": [
    "- 1개의 열만 추출할 때 데이터프레임으로 반환하고 싶으면 2중 대괄호를 사용하면 됨."
   ]
  },
  {
   "cell_type": "code",
   "execution_count": 20,
   "id": "90f5163c",
   "metadata": {},
   "outputs": [
    {
     "name": "stdout",
     "output_type": "stream",
     "text": [
      "   음악   체육\n",
      "0  85  100\n",
      "1  75   90\n",
      "2  95   90\n",
      "<class 'pandas.core.frame.DataFrame'>\n",
      "\n",
      "\n",
      "   수학\n",
      "0  90\n",
      "1  80\n",
      "2  70\n",
      "<class 'pandas.core.frame.DataFrame'>\n"
     ]
    }
   ],
   "source": [
    "# '음악', '체육' 점수 데이터를 선택. 변수 music_gym에 저장\n",
    "music_gym = df[['음악','체육']]\n",
    "print(music_gym)\n",
    "print(type(music_gym))\n",
    "print('\\n')\n",
    "\n",
    "# '수학' 점수 데이터만 선택. 변수 math2에 저장\n",
    "math2 = df[['수학']]\n",
    "print(math2)\n",
    "print(type(math2))"
   ]
  },
  {
   "cell_type": "markdown",
   "id": "3568bde6",
   "metadata": {},
   "source": [
    "- 범위 슬라이싱 : DataFrame 객체.iloc[시작 인덱스 : 끝 인덱스 : 슬라이싱 간격]"
   ]
  },
  {
   "cell_type": "code",
   "execution_count": 21,
   "id": "9611d686",
   "metadata": {},
   "outputs": [
    {
     "data": {
      "text/html": [
       "<div>\n",
       "<style scoped>\n",
       "    .dataframe tbody tr th:only-of-type {\n",
       "        vertical-align: middle;\n",
       "    }\n",
       "\n",
       "    .dataframe tbody tr th {\n",
       "        vertical-align: top;\n",
       "    }\n",
       "\n",
       "    .dataframe thead th {\n",
       "        text-align: right;\n",
       "    }\n",
       "</style>\n",
       "<table border=\"1\" class=\"dataframe\">\n",
       "  <thead>\n",
       "    <tr style=\"text-align: right;\">\n",
       "      <th></th>\n",
       "      <th>이름</th>\n",
       "      <th>수학</th>\n",
       "      <th>영어</th>\n",
       "      <th>음악</th>\n",
       "      <th>체육</th>\n",
       "    </tr>\n",
       "  </thead>\n",
       "  <tbody>\n",
       "    <tr>\n",
       "      <th>0</th>\n",
       "      <td>서준</td>\n",
       "      <td>90</td>\n",
       "      <td>98</td>\n",
       "      <td>85</td>\n",
       "      <td>100</td>\n",
       "    </tr>\n",
       "    <tr>\n",
       "      <th>1</th>\n",
       "      <td>우현</td>\n",
       "      <td>80</td>\n",
       "      <td>89</td>\n",
       "      <td>75</td>\n",
       "      <td>90</td>\n",
       "    </tr>\n",
       "    <tr>\n",
       "      <th>2</th>\n",
       "      <td>인아</td>\n",
       "      <td>70</td>\n",
       "      <td>75</td>\n",
       "      <td>95</td>\n",
       "      <td>90</td>\n",
       "    </tr>\n",
       "  </tbody>\n",
       "</table>\n",
       "</div>"
      ],
      "text/plain": [
       "   이름  수학  영어  음악   체육\n",
       "0  서준  90  98  85  100\n",
       "1  우현  80  89  75   90\n",
       "2  인아  70  75  95   90"
      ]
     },
     "execution_count": 21,
     "metadata": {},
     "output_type": "execute_result"
    }
   ],
   "source": [
    "df"
   ]
  },
  {
   "cell_type": "code",
   "execution_count": 22,
   "id": "e1e5abe6",
   "metadata": {},
   "outputs": [
    {
     "data": {
      "text/html": [
       "<div>\n",
       "<style scoped>\n",
       "    .dataframe tbody tr th:only-of-type {\n",
       "        vertical-align: middle;\n",
       "    }\n",
       "\n",
       "    .dataframe tbody tr th {\n",
       "        vertical-align: top;\n",
       "    }\n",
       "\n",
       "    .dataframe thead th {\n",
       "        text-align: right;\n",
       "    }\n",
       "</style>\n",
       "<table border=\"1\" class=\"dataframe\">\n",
       "  <thead>\n",
       "    <tr style=\"text-align: right;\">\n",
       "      <th></th>\n",
       "      <th>이름</th>\n",
       "      <th>수학</th>\n",
       "      <th>영어</th>\n",
       "      <th>음악</th>\n",
       "      <th>체육</th>\n",
       "    </tr>\n",
       "  </thead>\n",
       "  <tbody>\n",
       "    <tr>\n",
       "      <th>0</th>\n",
       "      <td>서준</td>\n",
       "      <td>90</td>\n",
       "      <td>98</td>\n",
       "      <td>85</td>\n",
       "      <td>100</td>\n",
       "    </tr>\n",
       "    <tr>\n",
       "      <th>2</th>\n",
       "      <td>인아</td>\n",
       "      <td>70</td>\n",
       "      <td>75</td>\n",
       "      <td>95</td>\n",
       "      <td>90</td>\n",
       "    </tr>\n",
       "  </tbody>\n",
       "</table>\n",
       "</div>"
      ],
      "text/plain": [
       "   이름  수학  영어  음악   체육\n",
       "0  서준  90  98  85  100\n",
       "2  인아  70  75  95   90"
      ]
     },
     "execution_count": 22,
     "metadata": {},
     "output_type": "execute_result"
    }
   ],
   "source": [
    "df.iloc[::2]"
   ]
  },
  {
   "cell_type": "code",
   "execution_count": 23,
   "id": "da71403f",
   "metadata": {},
   "outputs": [
    {
     "data": {
      "text/html": [
       "<div>\n",
       "<style scoped>\n",
       "    .dataframe tbody tr th:only-of-type {\n",
       "        vertical-align: middle;\n",
       "    }\n",
       "\n",
       "    .dataframe tbody tr th {\n",
       "        vertical-align: top;\n",
       "    }\n",
       "\n",
       "    .dataframe thead th {\n",
       "        text-align: right;\n",
       "    }\n",
       "</style>\n",
       "<table border=\"1\" class=\"dataframe\">\n",
       "  <thead>\n",
       "    <tr style=\"text-align: right;\">\n",
       "      <th></th>\n",
       "      <th>이름</th>\n",
       "      <th>수학</th>\n",
       "      <th>영어</th>\n",
       "      <th>음악</th>\n",
       "      <th>체육</th>\n",
       "    </tr>\n",
       "  </thead>\n",
       "  <tbody>\n",
       "    <tr>\n",
       "      <th>0</th>\n",
       "      <td>서준</td>\n",
       "      <td>90</td>\n",
       "      <td>98</td>\n",
       "      <td>85</td>\n",
       "      <td>100</td>\n",
       "    </tr>\n",
       "    <tr>\n",
       "      <th>2</th>\n",
       "      <td>인아</td>\n",
       "      <td>70</td>\n",
       "      <td>75</td>\n",
       "      <td>95</td>\n",
       "      <td>90</td>\n",
       "    </tr>\n",
       "  </tbody>\n",
       "</table>\n",
       "</div>"
      ],
      "text/plain": [
       "   이름  수학  영어  음악   체육\n",
       "0  서준  90  98  85  100\n",
       "2  인아  70  75  95   90"
      ]
     },
     "execution_count": 23,
     "metadata": {},
     "output_type": "execute_result"
    }
   ],
   "source": [
    "df.iloc[0:3:2]"
   ]
  },
  {
   "cell_type": "code",
   "execution_count": 24,
   "id": "77ed4db3",
   "metadata": {},
   "outputs": [
    {
     "data": {
      "text/html": [
       "<div>\n",
       "<style scoped>\n",
       "    .dataframe tbody tr th:only-of-type {\n",
       "        vertical-align: middle;\n",
       "    }\n",
       "\n",
       "    .dataframe tbody tr th {\n",
       "        vertical-align: top;\n",
       "    }\n",
       "\n",
       "    .dataframe thead th {\n",
       "        text-align: right;\n",
       "    }\n",
       "</style>\n",
       "<table border=\"1\" class=\"dataframe\">\n",
       "  <thead>\n",
       "    <tr style=\"text-align: right;\">\n",
       "      <th></th>\n",
       "      <th>이름</th>\n",
       "      <th>수학</th>\n",
       "      <th>영어</th>\n",
       "      <th>음악</th>\n",
       "      <th>체육</th>\n",
       "    </tr>\n",
       "  </thead>\n",
       "  <tbody>\n",
       "    <tr>\n",
       "      <th>2</th>\n",
       "      <td>인아</td>\n",
       "      <td>70</td>\n",
       "      <td>75</td>\n",
       "      <td>95</td>\n",
       "      <td>90</td>\n",
       "    </tr>\n",
       "    <tr>\n",
       "      <th>1</th>\n",
       "      <td>우현</td>\n",
       "      <td>80</td>\n",
       "      <td>89</td>\n",
       "      <td>75</td>\n",
       "      <td>90</td>\n",
       "    </tr>\n",
       "    <tr>\n",
       "      <th>0</th>\n",
       "      <td>서준</td>\n",
       "      <td>90</td>\n",
       "      <td>98</td>\n",
       "      <td>85</td>\n",
       "      <td>100</td>\n",
       "    </tr>\n",
       "  </tbody>\n",
       "</table>\n",
       "</div>"
      ],
      "text/plain": [
       "   이름  수학  영어  음악   체육\n",
       "2  인아  70  75  95   90\n",
       "1  우현  80  89  75   90\n",
       "0  서준  90  98  85  100"
      ]
     },
     "execution_count": 24,
     "metadata": {},
     "output_type": "execute_result"
    }
   ],
   "source": [
    "df.iloc[::-1]"
   ]
  },
  {
   "cell_type": "markdown",
   "id": "beeae308",
   "metadata": {},
   "source": [
    "- 1개의 행과 2개 이상의 열을 선택하거나, 2개 이상의 행과 1개의 열을 선택하는 경우 - 시리즈 반환. 2개 이상의 행과 2개 이상의 열을 선택하면, 데이터프레임 반환."
   ]
  },
  {
   "cell_type": "markdown",
   "id": "254dec80",
   "metadata": {},
   "source": [
    "- 인덱스 이름 : DataFrame객체.loc[행 인덱스, 열 이름]"
   ]
  },
  {
   "cell_type": "markdown",
   "id": "9d92ce5c",
   "metadata": {},
   "source": [
    "- 정수 위치 인덱스 : DataFrame객체.iloc[행 번호, 열 번호]"
   ]
  },
  {
   "cell_type": "code",
   "execution_count": 25,
   "id": "a2ba43ee",
   "metadata": {},
   "outputs": [
    {
     "data": {
      "text/html": [
       "<div>\n",
       "<style scoped>\n",
       "    .dataframe tbody tr th:only-of-type {\n",
       "        vertical-align: middle;\n",
       "    }\n",
       "\n",
       "    .dataframe tbody tr th {\n",
       "        vertical-align: top;\n",
       "    }\n",
       "\n",
       "    .dataframe thead th {\n",
       "        text-align: right;\n",
       "    }\n",
       "</style>\n",
       "<table border=\"1\" class=\"dataframe\">\n",
       "  <thead>\n",
       "    <tr style=\"text-align: right;\">\n",
       "      <th></th>\n",
       "      <th>이름</th>\n",
       "      <th>수학</th>\n",
       "      <th>영어</th>\n",
       "      <th>음악</th>\n",
       "      <th>체육</th>\n",
       "    </tr>\n",
       "  </thead>\n",
       "  <tbody>\n",
       "    <tr>\n",
       "      <th>0</th>\n",
       "      <td>서준</td>\n",
       "      <td>90</td>\n",
       "      <td>98</td>\n",
       "      <td>85</td>\n",
       "      <td>100</td>\n",
       "    </tr>\n",
       "    <tr>\n",
       "      <th>1</th>\n",
       "      <td>우현</td>\n",
       "      <td>80</td>\n",
       "      <td>89</td>\n",
       "      <td>75</td>\n",
       "      <td>90</td>\n",
       "    </tr>\n",
       "    <tr>\n",
       "      <th>2</th>\n",
       "      <td>인아</td>\n",
       "      <td>70</td>\n",
       "      <td>75</td>\n",
       "      <td>95</td>\n",
       "      <td>90</td>\n",
       "    </tr>\n",
       "  </tbody>\n",
       "</table>\n",
       "</div>"
      ],
      "text/plain": [
       "   이름  수학  영어  음악   체육\n",
       "0  서준  90  98  85  100\n",
       "1  우현  80  89  75   90\n",
       "2  인아  70  75  95   90"
      ]
     },
     "execution_count": 25,
     "metadata": {},
     "output_type": "execute_result"
    }
   ],
   "source": [
    "df"
   ]
  },
  {
   "cell_type": "code",
   "execution_count": 26,
   "id": "36e50f14",
   "metadata": {},
   "outputs": [
    {
     "name": "stdout",
     "output_type": "stream",
     "text": [
      "    수학  영어  음악   체육\n",
      "이름                 \n",
      "서준  90  98  85  100\n",
      "우현  80  89  75   90\n",
      "인아  70  75  95   90\n"
     ]
    }
   ],
   "source": [
    "# '이름' 열을 새로운 인덱스로 지정하고, df 객체에 변경 사항 반영\n",
    "df.set_index('이름', inplace=True)\n",
    "print(df)"
   ]
  },
  {
   "cell_type": "code",
   "execution_count": 27,
   "id": "68bd71f5",
   "metadata": {},
   "outputs": [
    {
     "name": "stdout",
     "output_type": "stream",
     "text": [
      "85\n",
      "85\n"
     ]
    }
   ],
   "source": [
    "# 데이터프레임 df의 특정 원소 1개 선택('서준'의 '음악' 점수)\n",
    "a = df.loc['서준','음악']\n",
    "print(a)\n",
    "b = df.iloc[0,2]\n",
    "print(b)"
   ]
  },
  {
   "cell_type": "code",
   "execution_count": 28,
   "id": "76e4d96d",
   "metadata": {},
   "outputs": [
    {
     "name": "stdout",
     "output_type": "stream",
     "text": [
      "음악     85\n",
      "체육    100\n",
      "Name: 서준, dtype: int64\n",
      "음악     85\n",
      "체육    100\n",
      "Name: 서준, dtype: int64\n",
      "음악     85\n",
      "체육    100\n",
      "Name: 서준, dtype: int64\n",
      "음악     85\n",
      "체육    100\n",
      "Name: 서준, dtype: int64\n"
     ]
    }
   ],
   "source": [
    "# 데이터프레임 df의 특정 원소 2개 이상 선택('서준'의 '음악','체육' 점수)\n",
    "c = df.loc['서준',['음악','체육']]\n",
    "print(c)\n",
    "d = df.iloc[0,[2,3]]\n",
    "print(d)\n",
    "e = df.loc['서준','음악':'체육']\n",
    "print(e)\n",
    "f = df.iloc[0,2:]\n",
    "print(f)"
   ]
  },
  {
   "cell_type": "code",
   "execution_count": 29,
   "id": "98484453",
   "metadata": {},
   "outputs": [
    {
     "name": "stdout",
     "output_type": "stream",
     "text": [
      "    음악   체육\n",
      "이름         \n",
      "서준  85  100\n",
      "우현  75   90\n",
      "\n",
      "\n",
      "    음악   체육\n",
      "이름         \n",
      "서준  85  100\n",
      "우현  75   90\n",
      "\n",
      "\n",
      "    음악   체육\n",
      "이름         \n",
      "서준  85  100\n",
      "우현  75   90\n",
      "\n",
      "\n",
      "    음악   체육\n",
      "이름         \n",
      "서준  85  100\n",
      "우현  75   90\n"
     ]
    }
   ],
   "source": [
    "# df 2개 이상의 행과 열에 속하는 원소들 선택('서준', '우현'의 '음악', '체육' 점수)\n",
    "g = df.loc[['서준','우현'],['음악','체육']]\n",
    "print(g)\n",
    "print('\\n')\n",
    "h = df.iloc[[0,1],[2,3]]\n",
    "print(h)\n",
    "print('\\n')\n",
    "i = df.loc['서준':'우현','음악':'체육']\n",
    "print(i)\n",
    "print('\\n')\n",
    "j = df.iloc[0:2, 2:]\n",
    "print(j)"
   ]
  },
  {
   "cell_type": "code",
   "execution_count": 30,
   "id": "7930997d",
   "metadata": {},
   "outputs": [
    {
     "name": "stdout",
     "output_type": "stream",
     "text": [
      "    음악   체육\n",
      "이름         \n",
      "서준  85  100\n",
      "우현  75   90\n",
      "인아  95   90\n",
      "\n",
      "\n",
      "    음악   체육\n",
      "이름         \n",
      "서준  85  100\n",
      "우현  75   90\n",
      "인아  95   90\n",
      "\n",
      "\n",
      "    음악   체육\n",
      "이름         \n",
      "서준  85  100\n",
      "우현  75   90\n",
      "인아  95   90\n"
     ]
    }
   ],
   "source": [
    "x = df.loc[:, ['음악','체육']]\n",
    "y = df.iloc[:, [2,3]]\n",
    "z = df.iloc[:, 2:4]\n",
    "\n",
    "print(x)\n",
    "print('\\n')\n",
    "print(y)\n",
    "print('\\n')\n",
    "print(z)"
   ]
  },
  {
   "cell_type": "markdown",
   "id": "d460d95e",
   "metadata": {},
   "source": [
    "- 열 추가"
   ]
  },
  {
   "cell_type": "markdown",
   "id": "c55633f6",
   "metadata": {},
   "source": [
    "열 추가 : DataFrame객체['추가하려는 열 이름'] = 데이터 값"
   ]
  },
  {
   "cell_type": "code",
   "execution_count": 31,
   "id": "73d81957",
   "metadata": {},
   "outputs": [
    {
     "name": "stdout",
     "output_type": "stream",
     "text": [
      "   이름  수학  영어  음악   체육\n",
      "0  서준  90  98  85  100\n",
      "1  우현  80  89  75   90\n",
      "2  인아  70  75  95   90\n",
      "\n",
      "\n",
      "   이름  수학  영어  음악   체육  국어\n",
      "0  서준  90  98  85  100  80\n",
      "1  우현  80  89  75   90  80\n",
      "2  인아  70  75  95   90  80\n"
     ]
    }
   ],
   "source": [
    "import pandas as pd\n",
    "\n",
    "# DataFrame() 함수로 데이터프레임 변환. 변수 df에 저장\n",
    "exam_data = {'이름':['서준','우현','인아'],\n",
    "            '수학':[90,80,70],\n",
    "            '영어':[98,89,75],\n",
    "            '음악':[85,75,95],\n",
    "            '체육':[100,90,90]}\n",
    "\n",
    "df = pd.DataFrame(exam_data)\n",
    "print(df)\n",
    "print('\\n')\n",
    "\n",
    "# 데이터프레임 df에 '국어' 점수 열(column) 추가. 데이터 값은 80 지정\n",
    "df['국어'] = 80\n",
    "print(df)"
   ]
  },
  {
   "cell_type": "markdown",
   "id": "10edf123",
   "metadata": {},
   "source": [
    "- 행 추가"
   ]
  },
  {
   "cell_type": "markdown",
   "id": "d4471e62",
   "metadata": {},
   "source": [
    "행 추가 : DataFrame.loc['새로운 행 이름'] = 데이터 값 (또는 배열)"
   ]
  },
  {
   "cell_type": "code",
   "execution_count": 32,
   "id": "e5535959",
   "metadata": {},
   "outputs": [
    {
     "name": "stdout",
     "output_type": "stream",
     "text": [
      "   이름  수학  영어  음악   체육\n",
      "0  서준  90  98  85  100\n",
      "1  우현  80  89  75   90\n",
      "2  인아  70  75  95   90\n",
      "\n",
      "\n",
      "   이름  수학  영어  음악   체육\n",
      "0  서준  90  98  85  100\n",
      "1  우현  80  89  75   90\n",
      "2  인아  70  75  95   90\n",
      "3   0   0   0   0    0\n",
      "\n",
      "\n",
      "   이름  수학  영어  음악   체육\n",
      "0  서준  90  98  85  100\n",
      "1  우현  80  89  75   90\n",
      "2  인아  70  75  95   90\n",
      "3   0   0   0   0    0\n",
      "4  동규  90  80  70   60\n",
      "\n",
      "\n",
      "    이름  수학  영어  음악   체육\n",
      "0   서준  90  98  85  100\n",
      "1   우현  80  89  75   90\n",
      "2   인아  70  75  95   90\n",
      "3    0   0   0   0    0\n",
      "4   동규  90  80  70   60\n",
      "행5   0   0   0   0    0\n"
     ]
    }
   ],
   "source": [
    "import pandas as pd\n",
    "\n",
    "# DataFrame() 함수로 데이터프레임 변환. 변수 df에 저장\n",
    "exam_data = {'이름':['서준','우현','인아'],\n",
    "            '수학':[90,80,70],\n",
    "            '영어':[98,89,75],\n",
    "            '음악':[85,75,95],\n",
    "            '체육':[100,90,90]}\n",
    "\n",
    "df = pd.DataFrame(exam_data)\n",
    "print(df)\n",
    "print('\\n')\n",
    "\n",
    "# 새로운 행(row) 추가 - 같은 원소 값 입력\n",
    "df.loc[3] = 0\n",
    "print(df)\n",
    "print('\\n')\n",
    "\n",
    "# 새로운 행(row) 추가 - 원소 값 여러 개의 배열 입력\n",
    "df.loc[4] = ['동규', 90,80,70,60]\n",
    "print(df)\n",
    "print('\\n')\n",
    "\n",
    "# 새로운 행(row) 추가 - 기존 행 복사\n",
    "df.loc['행5'] = df.loc[3]\n",
    "print(df)"
   ]
  },
  {
   "cell_type": "markdown",
   "id": "11516394",
   "metadata": {},
   "source": [
    "- 원소 값 변경"
   ]
  },
  {
   "cell_type": "markdown",
   "id": "2f6eeab3",
   "metadata": {},
   "source": [
    "- 원소 값 변경 : DataFrame객체의 일부분 또는 원소를 선택 = 새로운 값"
   ]
  },
  {
   "cell_type": "code",
   "execution_count": 33,
   "id": "23c06fe3",
   "metadata": {},
   "outputs": [
    {
     "name": "stdout",
     "output_type": "stream",
     "text": [
      "    수학  영어  음악   체육\n",
      "이름                 \n",
      "서준  90  98  85  100\n",
      "우현  80  89  75   90\n",
      "인아  70  75  95   90\n",
      "\n",
      "\n",
      "    수학  영어  음악  체육\n",
      "이름                \n",
      "서준  90  98  85  80\n",
      "우현  80  89  75  90\n",
      "인아  70  75  95  90\n",
      "\n",
      "\n",
      "    수학  영어  음악  체육\n",
      "이름                \n",
      "서준  90  98  85  90\n",
      "우현  80  89  75  90\n",
      "인아  70  75  95  90\n",
      "\n",
      "\n",
      "    수학  영어  음악   체육\n",
      "이름                 \n",
      "서준  90  98  85  100\n",
      "우현  80  89  75   90\n",
      "인아  70  75  95   90\n",
      "\n",
      "\n",
      "    수학  영어  음악  체육\n",
      "이름                \n",
      "서준  90  98  85  70\n",
      "우현  80  89  75  90\n",
      "인아  70  75  95  90\n"
     ]
    }
   ],
   "source": [
    "import pandas as pd\n",
    "\n",
    "# DataFrame() 함수로 데이터프레임 변환. 변수 df에 저장\n",
    "exam_data = {'이름':['서준','우현','인아'],\n",
    "            '수학':[90,80,70],\n",
    "            '영어':[98,89,75],\n",
    "            '음악':[85,75,95],\n",
    "            '체육':[100,90,90]}\n",
    "\n",
    "df = pd.DataFrame(exam_data)\n",
    "\n",
    "# '이름' 열을 새로운 인덱스로 지정하고, df객체에 변경사항 반영\n",
    "df.set_index('이름', inplace=True)\n",
    "print(df)\n",
    "print('\\n')\n",
    "\n",
    "# 데이터프레임 df의 특정 원소를 변경하는 방법 : '서준'의 '체육' 점수\n",
    "df.iloc[0][3] = 80\n",
    "print(df)\n",
    "print('\\n')\n",
    "\n",
    "df.loc['서준']['체육'] = 90\n",
    "print(df)\n",
    "print('\\n')\n",
    "\n",
    "df.loc['서준','체육'] = 100\n",
    "print(df)\n",
    "print('\\n')\n",
    "\n",
    "df.iloc[0,3] = 70\n",
    "print(df)"
   ]
  },
  {
   "cell_type": "code",
   "execution_count": 34,
   "id": "b3b6a857",
   "metadata": {},
   "outputs": [
    {
     "name": "stdout",
     "output_type": "stream",
     "text": [
      "    수학  영어  음악  체육\n",
      "이름                \n",
      "서준  90  98  50  50\n",
      "우현  80  89  75  90\n",
      "인아  70  75  95  90\n",
      "\n",
      "\n",
      "    수학  영어   음악  체육\n",
      "이름                 \n",
      "서준  90  98  100  50\n",
      "우현  80  89   75  90\n",
      "인아  70  75   95  90\n"
     ]
    }
   ],
   "source": [
    "# 데이터프레임 df의 원소 여러 개를 변경하는 방법: '서준'의 '음악', '체육' 점수\n",
    "df.loc['서준', ['음악','체육']] = 50\n",
    "print(df)\n",
    "print('\\n')\n",
    "\n",
    "df.loc['서준', ['음악','체육']] = 100, 50\n",
    "print(df)"
   ]
  },
  {
   "cell_type": "markdown",
   "id": "1e67d5e3",
   "metadata": {},
   "source": [
    "- 행, 열의 위치 바꾸기"
   ]
  },
  {
   "cell_type": "markdown",
   "id": "201024c3",
   "metadata": {},
   "source": [
    "행, 열 바꾸기 : DataFrame객체.transpose() 또는 DataFrame 객체.T"
   ]
  },
  {
   "cell_type": "code",
   "execution_count": 35,
   "id": "988015bf",
   "metadata": {},
   "outputs": [
    {
     "name": "stdout",
     "output_type": "stream",
     "text": [
      "   이름  수학  영어  음악   체육\n",
      "0  서준  90  98  85  100\n",
      "1  우현  80  89  75   90\n",
      "2  인아  70  75  95   90\n",
      "\n",
      "\n",
      "      0   1   2\n",
      "이름   서준  우현  인아\n",
      "수학   90  80  70\n",
      "영어   98  89  75\n",
      "음악   85  75  95\n",
      "체육  100  90  90\n",
      "\n",
      "\n",
      "   이름  수학  영어  음악   체육\n",
      "0  서준  90  98  85  100\n",
      "1  우현  80  89  75   90\n",
      "2  인아  70  75  95   90\n"
     ]
    }
   ],
   "source": [
    "import pandas as pd\n",
    "\n",
    "# DataFrame() 함수로 데이터프레임 변환. 변수 df에 저장\n",
    "exam_data = {'이름':['서준','우현','인아'],\n",
    "            '수학':[90,80,70],\n",
    "            '영어':[98,89,75],\n",
    "            '음악':[85,75,95],\n",
    "            '체육':[100,90,90]}\n",
    "\n",
    "df = pd.DataFrame(exam_data)\n",
    "print(df)\n",
    "print('\\n')\n",
    "\n",
    "# 데이터프레임 df를 전치하기(메소드 활용)\n",
    "df = df.transpose()\n",
    "print(df)\n",
    "print('\\n')\n",
    "\n",
    "# 데이터프레임 df를 다시 전치하기(클래스 속성 활용)\n",
    "df = df.T\n",
    "print(df)"
   ]
  },
  {
   "cell_type": "markdown",
   "id": "1ccc2eea",
   "metadata": {},
   "source": [
    "- 인덱스 활용"
   ]
  },
  {
   "cell_type": "markdown",
   "id": "7146ce14",
   "metadata": {},
   "source": [
    "- 특정 열을 행 인덱스로 설정 : DataFrame객체.set_index(['열 이름'] 또는 '열 이름')"
   ]
  },
  {
   "cell_type": "code",
   "execution_count": 36,
   "id": "aab8108e",
   "metadata": {},
   "outputs": [
    {
     "name": "stdout",
     "output_type": "stream",
     "text": [
      "   이름  수학  영어  음악   체육\n",
      "0  서준  90  98  85  100\n",
      "1  우현  80  89  75   90\n",
      "2  인아  70  75  95   90\n",
      "\n",
      "\n",
      "    수학  영어  음악   체육\n",
      "이름                 \n",
      "서준  90  98  85  100\n",
      "우현  80  89  75   90\n",
      "인아  70  75  95   90\n",
      "\n",
      "\n",
      "    수학  영어   체육\n",
      "음악             \n",
      "85  90  98  100\n",
      "75  80  89   90\n",
      "95  70  75   90\n",
      "\n",
      "\n",
      "       영어   체육\n",
      "수학 음악         \n",
      "90 85  98  100\n",
      "80 75  89   90\n",
      "70 95  75   90\n"
     ]
    }
   ],
   "source": [
    "import pandas as pd\n",
    "\n",
    "# DataFrame() 함수로 데이터프레임 변환. 변수 df에 저장\n",
    "exam_data = {'이름':['서준','우현','인아'],\n",
    "            '수학':[90,80,70],\n",
    "            '영어':[98,89,75],\n",
    "            '음악':[85,75,95],\n",
    "            '체육':[100,90,90]}\n",
    "\n",
    "df = pd.DataFrame(exam_data)\n",
    "print(df)\n",
    "print('\\n')\n",
    "\n",
    "# 특정 열(column)을 데이터프레임의 행 인덱스(index)로 설정\n",
    "ndf = df.set_index(['이름'])\n",
    "print(ndf)\n",
    "print('\\n')\n",
    "ndf2 = ndf.set_index('음악')\n",
    "print(ndf2)\n",
    "print('\\n')\n",
    "ndf3 = ndf.set_index(['수학','음악'])\n",
    "print(ndf3)"
   ]
  },
  {
   "cell_type": "markdown",
   "id": "106a6cb8",
   "metadata": {},
   "source": [
    "- 행 인덱스 재배열"
   ]
  },
  {
   "cell_type": "markdown",
   "id": "68a07b29",
   "metadata": {},
   "source": [
    "- 새로운 배열로 행 인덱스 재지정 : DataFrame객체.reindex(새로운 인덱스 배열)"
   ]
  },
  {
   "cell_type": "code",
   "execution_count": 38,
   "id": "5bbe6a20",
   "metadata": {},
   "outputs": [
    {
     "name": "stdout",
     "output_type": "stream",
     "text": [
      "    c0  c1  c2  c3  c4\n",
      "r0   1   4   7  10  13\n",
      "r1   2   5   8  11  14\n",
      "r2   3   6   9  12  15\n",
      "\n",
      "\n",
      "     c0   c1   c2    c3    c4\n",
      "r0  1.0  4.0  7.0  10.0  13.0\n",
      "r1  2.0  5.0  8.0  11.0  14.0\n",
      "r2  3.0  6.0  9.0  12.0  15.0\n",
      "r3  NaN  NaN  NaN   NaN   NaN\n",
      "r4  NaN  NaN  NaN   NaN   NaN\n",
      "\n",
      "\n",
      "    c0  c1  c2  c3  c4\n",
      "r0   1   4   7  10  13\n",
      "r1   2   5   8  11  14\n",
      "r2   3   6   9  12  15\n",
      "r3   0   0   0   0   0\n",
      "r4   0   0   0   0   0\n"
     ]
    }
   ],
   "source": [
    "import pandas as pd\n",
    "\n",
    "# 딕셔너리 정의\n",
    "dict_data = {'c0':[1,2,3], 'c1':[4,5,6], 'c2':[7,8,9], 'c3':[10,11,12], 'c4':[13,14,15]}\n",
    "\n",
    "# 딕셔너리를 데이터프레임으로 변환. 인덱스를 [r0, r1, r2]로 지정\n",
    "df = pd.DataFrame(dict_data, index=['r0','r1','r2'])\n",
    "print(df)\n",
    "print('\\n')\n",
    "\n",
    "# 인덱스를 [r0, r1, r2, r3, r4]로 재지정\n",
    "new_index = ['r0','r1','r2','r3','r4']\n",
    "ndf = df.reindex(new_index)\n",
    "print(ndf)\n",
    "print('\\n')\n",
    "\n",
    "# reindex로 발생한 NaN 값을 숫자 0으로 채우기\n",
    "new_index = ['r0','r1','r2','r3','r4']\n",
    "ndf2 = df.reindex(new_index, fill_value=0)\n",
    "print(ndf2)"
   ]
  },
  {
   "cell_type": "markdown",
   "id": "f1c28094",
   "metadata": {},
   "source": [
    "- 행 인덱스 초기화"
   ]
  },
  {
   "cell_type": "markdown",
   "id": "cbf08e62",
   "metadata": {},
   "source": [
    "- 정수형 위치 인덱스로 초기화 : DataFrame객체.reset_index()"
   ]
  },
  {
   "cell_type": "code",
   "execution_count": 40,
   "id": "1b9c0151",
   "metadata": {},
   "outputs": [
    {
     "name": "stdout",
     "output_type": "stream",
     "text": [
      "    c0  c1  c2  c3  c4\n",
      "r0   1   4   7  10  13\n",
      "r1   2   5   8  11  14\n",
      "r2   3   6   9  12  15\n",
      "\n",
      "\n",
      "  index  c0  c1  c2  c3  c4\n",
      "0    r0   1   4   7  10  13\n",
      "1    r1   2   5   8  11  14\n",
      "2    r2   3   6   9  12  15\n"
     ]
    }
   ],
   "source": [
    "import pandas as pd\n",
    "\n",
    "# 딕셔너리 정의\n",
    "dict_data = {'c0':[1,2,3], 'c1':[4,5,6], 'c2':[7,8,9], 'c3':[10,11,12], 'c4':[13,14,15]}\n",
    "\n",
    "# 딕셔너리를 데이터프레임으로 변환. 인덱스를 [r0, r1, r2]로 지정\n",
    "df = pd.DataFrame(dict_data, index=['r0','r1','r2'])\n",
    "print(df)\n",
    "print('\\n')\n",
    "\n",
    "# 행 인덱스를 정수형으로 초기화\n",
    "ndf = df.reset_index()\n",
    "print(ndf)\n",
    "\n",
    "# 이때 기존 행 인덱스는 열로 이동한 다는 것!! 주의"
   ]
  },
  {
   "cell_type": "markdown",
   "id": "05ab8229",
   "metadata": {},
   "source": [
    "- 행 인덱스를 기준으로 데이터프레임 정렬"
   ]
  },
  {
   "cell_type": "markdown",
   "id": "bd4e3afc",
   "metadata": {},
   "source": [
    "- 행 인덱스 기준 정렬 : DataFrame객체.sort_index()"
   ]
  },
  {
   "cell_type": "code",
   "execution_count": 41,
   "id": "a892be58",
   "metadata": {},
   "outputs": [
    {
     "name": "stdout",
     "output_type": "stream",
     "text": [
      "    c0  c1  c2  c3  c4\n",
      "r0   1   4   7  10  13\n",
      "r1   2   5   8  11  14\n",
      "r2   3   6   9  12  15\n",
      "\n",
      "\n",
      "    c0  c1  c2  c3  c4\n",
      "r2   3   6   9  12  15\n",
      "r1   2   5   8  11  14\n",
      "r0   1   4   7  10  13\n"
     ]
    }
   ],
   "source": [
    "import pandas as pd\n",
    "\n",
    "# 딕셔너리 정의\n",
    "dict_data = {'c0':[1,2,3], 'c1':[4,5,6], 'c2':[7,8,9], 'c3':[10,11,12], 'c4':[13,14,15]}\n",
    "\n",
    "# 딕셔너리를 데이터프레임으로 변환. 인덱스를 [r0,r1,r2]로 지정\n",
    "df = pd.DataFrame(dict_data, index=['r0','r1','r2'])\n",
    "print(df)\n",
    "print('\\n')\n",
    "\n",
    "# 내림차순으로 행 인덱스 정렬\n",
    "ndf = df.sort_index(ascending=False)\n",
    "print(ndf)"
   ]
  },
  {
   "cell_type": "markdown",
   "id": "b144725b",
   "metadata": {},
   "source": [
    "- 열 기준 정렬 : DataFrame객체.sort_values()"
   ]
  },
  {
   "cell_type": "code",
   "execution_count": 42,
   "id": "218730d3",
   "metadata": {},
   "outputs": [
    {
     "name": "stdout",
     "output_type": "stream",
     "text": [
      "    c0  c1  c2  c3  c4\n",
      "r0   1   4   7  10  13\n",
      "r1   2   5   8  11  14\n",
      "r2   3   6   9  12  15\n",
      "\n",
      "\n",
      "    c0  c1  c2  c3  c4\n",
      "r2   3   6   9  12  15\n",
      "r1   2   5   8  11  14\n",
      "r0   1   4   7  10  13\n"
     ]
    }
   ],
   "source": [
    "import pandas as pd\n",
    "\n",
    "# 딕셔너리 정의\n",
    "dict_data = {'c0':[1,2,3], 'c1':[4,5,6], 'c2':[7,8,9], 'c3':[10,11,12], 'c4':[13,14,15]}\n",
    "\n",
    "# 딕셔너리를 데이터프레임으로 변환. 인덱스를 [r0,r1,r2]로 지정\n",
    "df = pd.DataFrame(dict_data, index=['r0','r1','r2'])\n",
    "print(df)\n",
    "print('\\n')\n",
    "\n",
    "# c1 열을 기준으로 내림차순 정렬\n",
    "ndf = df.sort_values(by='c1', ascending=False)\n",
    "print(ndf)"
   ]
  },
  {
   "cell_type": "markdown",
   "id": "96779912",
   "metadata": {},
   "source": [
    "- 산술연산"
   ]
  },
  {
   "cell_type": "markdown",
   "id": "353e908f",
   "metadata": {},
   "source": [
    "- 동일한 위치에 있는 원소끼리 일대일 대응. 일대일 대응이 되는 원소끼리 연산을 처리. 대응되는 원소가 없으면 NaN 처리."
   ]
  },
  {
   "cell_type": "markdown",
   "id": "8403b7b8",
   "metadata": {},
   "source": [
    "- 시리즈 연산"
   ]
  },
  {
   "cell_type": "markdown",
   "id": "d9ce484f",
   "metadata": {},
   "source": [
    "- 시리즈 vs 숫자"
   ]
  },
  {
   "cell_type": "markdown",
   "id": "bd6e86d6",
   "metadata": {},
   "source": [
    "- 시리즈와 숫자 연산 : Series객체 + 연산자(+,-,*,/) + 숫자"
   ]
  },
  {
   "cell_type": "code",
   "execution_count": 43,
   "id": "57bc7b57",
   "metadata": {},
   "outputs": [
    {
     "name": "stdout",
     "output_type": "stream",
     "text": [
      "국어    100\n",
      "영어     80\n",
      "수학     90\n",
      "dtype: int64\n",
      "\n",
      "\n",
      "국어    0.50\n",
      "영어    0.40\n",
      "수학    0.45\n",
      "dtype: float64\n",
      "\n",
      "\n",
      "<class 'pandas.core.series.Series'>\n"
     ]
    }
   ],
   "source": [
    "import pandas as pd\n",
    "\n",
    "# 딕셔너리 데이터로 판다스 시리즈 만들기\n",
    "student1 = pd.Series({'국어':100, '영어':80, '수학':90})\n",
    "print(student1)\n",
    "print('\\n')\n",
    "\n",
    "# 학생의 과목별 점수를 200으로 나누기\n",
    "percentage = student1/200\n",
    "\n",
    "print(percentage)\n",
    "print('\\n')\n",
    "print(type(percentage))"
   ]
  },
  {
   "cell_type": "markdown",
   "id": "b2819a9d",
   "metadata": {},
   "source": [
    "- 시리즈 vs 시리즈"
   ]
  },
  {
   "cell_type": "markdown",
   "id": "07477e2e",
   "metadata": {},
   "source": [
    "- 시리즈와 시리즈 연산 : Series1 + 연산자(+,-,*,/) + Series2"
   ]
  },
  {
   "cell_type": "code",
   "execution_count": 44,
   "id": "de212131",
   "metadata": {},
   "outputs": [
    {
     "name": "stdout",
     "output_type": "stream",
     "text": [
      "국어    100\n",
      "영어     80\n",
      "수학     90\n",
      "dtype: int64\n",
      "\n",
      "\n",
      "국어    80\n",
      "수학    70\n",
      "영어    85\n",
      "dtype: int64\n",
      "\n",
      "\n",
      "<class 'pandas.core.series.Series'>\n",
      "\n",
      "\n",
      "          국어           수학           영어\n",
      "덧셈    180.00   160.000000   165.000000\n",
      "뺄셈     20.00    20.000000    -5.000000\n",
      "곱셈   8000.00  6300.000000  6800.000000\n",
      "나눗셈     1.25     1.285714     0.941176\n"
     ]
    }
   ],
   "source": [
    "import pandas as pd\n",
    "\n",
    "# 딕셔너리 데이터로 판다스 시리즈 만들기\n",
    "student1 = pd.Series({'국어':100, '영어':80, '수학':90})\n",
    "student2 = pd.Series({'국어':80, '수학':70, '영어':85})\n",
    "\n",
    "print(student1)\n",
    "print('\\n')\n",
    "print(student2)\n",
    "print('\\n')\n",
    "\n",
    "# 두 학생의 과목별 점수로 사칙연산 수행\n",
    "addition = student1 + student2  # 덧셈\n",
    "subtraction = student1 - student2  # 뺄셈\n",
    "multiplication = student1 * student2  # 곱셈\n",
    "division = student1/student2  # 나눗셈\n",
    "print(type(division))\n",
    "print('\\n')\n",
    "\n",
    "# 사칙연산 결과를 데이터프레임으로 합치기(시리즈 -> 데이터프레임)\n",
    "result = pd.DataFrame([addition, subtraction, multiplication, division], index=['덧셈', '뺄셈', '곱셈', '나눗셈'])\n",
    "\n",
    "print(result)"
   ]
  },
  {
   "cell_type": "code",
   "execution_count": 45,
   "id": "b988bd33",
   "metadata": {},
   "outputs": [
    {
     "name": "stdout",
     "output_type": "stream",
     "text": [
      "국어     NaN\n",
      "영어    80.0\n",
      "수학    90.0\n",
      "dtype: float64\n",
      "\n",
      "\n",
      "수학    80\n",
      "국어    90\n",
      "dtype: int64\n",
      "\n",
      "\n",
      "<class 'pandas.core.series.Series'>\n",
      "\n",
      "\n",
      "     국어        수학  영어\n",
      "덧셈  NaN   170.000 NaN\n",
      "뺄셈  NaN    10.000 NaN\n",
      "곱셈  NaN  7200.000 NaN\n",
      "나눗셈 NaN     1.125 NaN\n"
     ]
    }
   ],
   "source": [
    "import pandas as pd\n",
    "import numpy as np\n",
    "\n",
    "# 딕셔너리 데이터로 판다스 시리즈 만들기\n",
    "student1 = pd.Series({'국어':np.nan, '영어':80, '수학':90})\n",
    "student2 = pd.Series({'수학':80, '국어':90})\n",
    "\n",
    "print(student1)\n",
    "print('\\n')\n",
    "print(student2)\n",
    "print('\\n')\n",
    "\n",
    "# 두 학생의 과목별 점수로 사칙연산 수행(시리즈 vs 시리즈)\n",
    "addition = student1 + student2  # 덧셈\n",
    "subtraction = student1 - student2  # 뺄셈\n",
    "multiplication = student1 * student2  # 곱셈\n",
    "division = student1/student2  # 나눗셈\n",
    "print(type(division))\n",
    "print('\\n')\n",
    "\n",
    "# 사칙연산 결과를 데이터프레임으로 합치기(시리즈 -> 데이터프레임)\n",
    "result = pd.DataFrame([addition, subtraction, multiplication, division],\n",
    "                     index=['덧셈','뺄셈','곱셈','나눗셈'])\n",
    "print(result)"
   ]
  },
  {
   "cell_type": "markdown",
   "id": "8286be40",
   "metadata": {},
   "source": [
    "- 연산 메소드"
   ]
  },
  {
   "cell_type": "markdown",
   "id": "9f5f75c1",
   "metadata": {},
   "source": [
    "- 연산 메소드 사용(시리즈와 시리즈 덧셈): Series1.add(Series2, fill_value=0)"
   ]
  },
  {
   "cell_type": "code",
   "execution_count": 47,
   "id": "60408669",
   "metadata": {},
   "outputs": [
    {
     "name": "stdout",
     "output_type": "stream",
     "text": [
      "국어     NaN\n",
      "영어    80.0\n",
      "수학    90.0\n",
      "dtype: float64\n",
      "\n",
      "\n",
      "수학    80\n",
      "국어    90\n",
      "dtype: int64\n",
      "\n",
      "\n",
      "       국어        수학    영어\n",
      "덧셈   90.0   170.000  80.0\n",
      "뺄셈  -90.0    10.000  80.0\n",
      "곱셈    0.0  7200.000   0.0\n",
      "나눗셈   0.0     1.125   inf\n"
     ]
    }
   ],
   "source": [
    "import pandas as pd\n",
    "import numpy as np\n",
    "\n",
    "# 딕셔너리 데이터로 판다스 시리즈 만들기\n",
    "student1 = pd.Series({'국어':np.nan, '영어':80, '수학':90})\n",
    "student2 = pd.Series({'수학':80, '국어':90})\n",
    "\n",
    "print(student1)\n",
    "print('\\n')\n",
    "print(student2)\n",
    "print('\\n')\n",
    "\n",
    "# 두 학생의 과목별 점수로 사칙연산 수행(연산 메소드 사용)\n",
    "sr_add = student1.add(student2, fill_value=0)  # 덧셈\n",
    "sr_sub = student1.sub(student2, fill_value=0)  # 뺄셈\n",
    "sr_mul = student1.mul(student2, fill_value=0)  # 곱셈\n",
    "sr_div = student1.div(student2, fill_value=0)  # 나눗셈\n",
    "\n",
    "# 사칙연산 결과를 데이터프레임으로 합치기(시리즈 -> 데이터프레임)\n",
    "result = pd.DataFrame([sr_add, sr_sub, sr_mul, sr_div],\n",
    "                     index=['덧셈','뺄셈','곱셈','나눗셈'])\n",
    "print(result)\n",
    "\n",
    "# 사칙연산 이전의 NaN값이 0으로 채워진 후 사칙연산이 진행된다!!"
   ]
  },
  {
   "cell_type": "markdown",
   "id": "d20f3f26",
   "metadata": {},
   "source": [
    "- 데이터프레임 연산"
   ]
  },
  {
   "cell_type": "markdown",
   "id": "85b35c32",
   "metadata": {},
   "source": [
    "- 행/열 인덱스를 기준으로 정렬하고 일대일 대응되는 원소끼리 연산을 처리한다."
   ]
  },
  {
   "cell_type": "markdown",
   "id": "ee9b57a2",
   "metadata": {},
   "source": [
    "- 데이터프레임 vs 숫자"
   ]
  },
  {
   "cell_type": "markdown",
   "id": "fe282c79",
   "metadata": {},
   "source": [
    "- 데이터프레임과 숫자 연산 : DataFrame객체 + 연산자 + 숫자"
   ]
  },
  {
   "cell_type": "code",
   "execution_count": 48,
   "id": "6ca954c3",
   "metadata": {},
   "outputs": [
    {
     "name": "stdout",
     "output_type": "stream",
     "text": [
      "    age     fare\n",
      "0  22.0   7.2500\n",
      "1  38.0  71.2833\n",
      "2  26.0   7.9250\n",
      "3  35.0  53.1000\n",
      "4  35.0   8.0500\n",
      "\n",
      "\n",
      "<class 'pandas.core.frame.DataFrame'>\n",
      "\n",
      "\n",
      "    age     fare\n",
      "0  32.0  17.2500\n",
      "1  48.0  81.2833\n",
      "2  36.0  17.9250\n",
      "3  45.0  63.1000\n",
      "4  45.0  18.0500\n",
      "\n",
      "\n",
      "<class 'pandas.core.frame.DataFrame'>\n"
     ]
    }
   ],
   "source": [
    "import pandas as pd\n",
    "import numpy as np\n",
    "import seaborn as sns\n",
    "\n",
    "# titanic 데이터셋에서 age, fare 2개의 열을 선택하여 데이터프레임 만들기\n",
    "titanic = sns.load_dataset('titanic')\n",
    "df = titanic.loc[:,['age','fare']]\n",
    "print(df.head())  # 첫 5행만 표기\n",
    "print('\\n')\n",
    "print(type(df))\n",
    "print('\\n')\n",
    "\n",
    "# 데이터프레임에 숫자 10 더하기\n",
    "addition = df + 10\n",
    "print(addition.head())\n",
    "print('\\n')\n",
    "print(type(addition))"
   ]
  },
  {
   "cell_type": "markdown",
   "id": "5baa18f0",
   "metadata": {},
   "source": [
    "- 데이터프레임 vs 데이터프레임"
   ]
  },
  {
   "cell_type": "markdown",
   "id": "1e4d3a68",
   "metadata": {},
   "source": [
    "- 데이터프레임의 연산자 활용 : DataFrame1 + 연산자 + DataFrame2"
   ]
  },
  {
   "cell_type": "code",
   "execution_count": 50,
   "id": "bedd02c4",
   "metadata": {},
   "outputs": [
    {
     "name": "stdout",
     "output_type": "stream",
     "text": [
      "      age   fare\n",
      "886  27.0  13.00\n",
      "887  19.0  30.00\n",
      "888   NaN  23.45\n",
      "889  26.0  30.00\n",
      "890  32.0   7.75\n",
      "\n",
      "\n",
      "<class 'pandas.core.frame.DataFrame'>\n",
      "\n",
      "\n",
      "      age   fare\n",
      "886  37.0  23.00\n",
      "887  29.0  40.00\n",
      "888   NaN  33.45\n",
      "889  36.0  40.00\n",
      "890  42.0  17.75\n",
      "\n",
      "\n",
      "<class 'pandas.core.frame.DataFrame'>\n",
      "\n",
      "\n",
      "      age  fare\n",
      "886  10.0  10.0\n",
      "887  10.0  10.0\n",
      "888   NaN  10.0\n",
      "889  10.0  10.0\n",
      "890  10.0  10.0\n",
      "\n",
      "\n",
      "<class 'pandas.core.frame.DataFrame'>\n"
     ]
    }
   ],
   "source": [
    "import pandas as pd\n",
    "import numpy as np\n",
    "import seaborn as sns\n",
    "\n",
    "# titanic 데이터셋에서 age, fare 2개의 열을 선택하여 데이터프레임 만들기\n",
    "titanic = sns.load_dataset('titanic')\n",
    "df = titanic.loc[:,['age','fare']]\n",
    "print(df.tail())  # 첫 5행만 표기\n",
    "print('\\n')\n",
    "print(type(df))\n",
    "print('\\n')\n",
    "\n",
    "# 데이터프레임에 숫자 10 더하기\n",
    "addition = df + 10\n",
    "print(addition.tail())\n",
    "print('\\n')\n",
    "print(type(addition))\n",
    "print('\\n')\n",
    "\n",
    "# 데이터프레임끼리 연산하기(addtion - df)\n",
    "subtraction = addition - df\n",
    "print(subtraction.tail())\n",
    "print('\\n')\n",
    "print(type(subtraction))"
   ]
  },
  {
   "cell_type": "code",
   "execution_count": null,
   "id": "4b597bf6",
   "metadata": {},
   "outputs": [],
   "source": []
  }
 ],
 "metadata": {
  "kernelspec": {
   "display_name": "Python 3 (ipykernel)",
   "language": "python",
   "name": "python3"
  },
  "language_info": {
   "codemirror_mode": {
    "name": "ipython",
    "version": 3
   },
   "file_extension": ".py",
   "mimetype": "text/x-python",
   "name": "python",
   "nbconvert_exporter": "python",
   "pygments_lexer": "ipython3",
   "version": "3.9.12"
  }
 },
 "nbformat": 4,
 "nbformat_minor": 5
}
